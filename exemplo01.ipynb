{
 "cells": [
  {
   "cell_type": "code",
   "execution_count": null,
   "metadata": {},
   "outputs": [],
   "source": [
    "# Importar as bibliotecas\n",
    "import pandas as pd \n",
    "import numpy as np\n",
    "\n",
    "ENDERECO_DADOS = 'https://www.ispdados.rj.gov.br/Arquivos/BaseDPEvolucaoMensalCisp.csv'\n",
    "\n",
    "# Obtendo dados\n",
    "try:\n",
    "    df_roubos = pd.read_csv(ENDERECO_DADOS, sep=';', encoding='iso-8859-1')\n",
    "    # print(df_roubos['munic'].unique())  # testar as impressões\n",
    "    print(df_roubos['regiao'].unique())  # testar as impressões\n",
    "    print(df_roubos.head())\n",
    "except Exception as e:\n",
    "    print(\"Erro ao obter dados do ISP: \", e)\n"
   ]
  },
  {
   "cell_type": "code",
   "execution_count": null,
   "metadata": {},
   "outputs": [],
   "source": [
    "# Tratando e preparando os dados\n",
    "try:\n",
    "    # Delimitando as variáveis\n",
    "    df_roubos = df_roubos[['cisp', 'regiao', 'munic', 'roubo_veiculo']]\n",
    "    # print(df_roubos.head())\n",
    "    # Tratando os erros de acentuação na série região\n",
    "    correcao_acentuacao = df_roubos['regiao'].str.startswith('Grande Niter', na=False)\n",
    "    # print(correcao_acentuacao)\n",
    "    df_roubos.loc[correcao_acentuacao, 'regiao'] = 'Grande Niterói'\n",
    "    # print(df_roubos['regiao'].unique())\n",
    "\n",
    "    # Agrupando os dados cisp, região e município\n",
    "    df_roubos = df_roubos.groupby(['cisp', 'regiao', 'munic']).sum(['roubo_veiculo']).reset_index()\n",
    "\n",
    "    # Display() é uma função do Jupyter Notebook que permite exibir o DataFrame\n",
    "    display(df_roubos)\n",
    "except Exception as e:\n",
    "    print(\"Erro no tratamento dos dados: \", e)"
   ]
  },
  {
   "cell_type": "code",
   "execution_count": null,
   "metadata": {},
   "outputs": [],
   "source": [
    "# Calculando as medidas\n",
    "try:\n",
    "    array_roubos = np.array(df_roubos['roubo_veiculo'])\n",
    "    # print(array_roubos)\n",
    "    \n",
    "    media = np.mean(array_roubos)\n",
    "    mediana = np.median(array_roubos)\n",
    "    total = np.sum(array_roubos)\n",
    "    # maximo = np.max(array_roubos)\n",
    "    # minimo = np.min(array_roubos)\n",
    "\n",
    "    # Obtendo os Quartis\n",
    "    q1 = np.quantile(array_roubos, 0.25)\n",
    "    q3 = np.quantile(array_roubos, 0.75)\n",
    "\n",
    "    # Printando as medidas\n",
    "    print('Medidas:')\n",
    "    print(f'Media: {media:.2f}')\n",
    "    print(f'Mediana: {mediana}')\n",
    "    print(f'Total: {total}')\n",
    "\n",
    "except Exception as e:\n",
    "    print(\"Erro ao obter as medidas: \", e)"
   ]
  },
  {
   "cell_type": "code",
   "execution_count": null,
   "metadata": {},
   "outputs": [],
   "source": [
    "# Identificando os maiores e menores\n",
    "try:\n",
    "    # Gerar um dataframe com os maiores\n",
    "    # Copy() quando preciar alterar um dataframe já filtrado\n",
    "    df_maiores =  df_roubos[df_roubos['roubo_veiculo'] > q3].copy()\n",
    "    df_maiores['flag'] = 'mais'\n",
    "    # print(df_maiores)\n",
    "\n",
    "    # Gerar um dataframe com os menores\n",
    "    df_menores = df_roubos[df_roubos['roubo_veiculo'] < q1].copy()\n",
    "    df_menores['flag'] = 'menos'\n",
    "    # print(df_menores)\n",
    "\n",
    "    # Concatenar os dois dataframes\n",
    "    df_roubos_flags = pd.concat([df_maiores, df_menores], ignore_index=True)\n",
    "\n",
    "    display(df_roubos_flags)\n",
    "except Exception as e:\n",
    "    print(\"Erro ao identificar os maiores e menores: \", e)"
   ]
  },
  {
   "cell_type": "code",
   "execution_count": 18,
   "metadata": {},
   "outputs": [],
   "source": [
    "# Exportando dados csv ou xlsx\n",
    "try:\n",
    "    # Testar sem encoding | Impirmir com o encoding utf-8-sig, se precisar do csv fora do BI\n",
    "    df_roubos_flags.to_csv('roubos_veiculos.csv', index=False, )\n",
    "\n",
    "    # df_roubos_flags.to_excel('roubos_veiculos.xlsx', index=False)\n",
    "\n",
    "except Exception as e:\n",
    "    print(\"Erro ao exportar os dados: \", e)\n"
   ]
  },
  {
   "cell_type": "code",
   "execution_count": 19,
   "metadata": {},
   "outputs": [],
   "source": [
    "# CRUD\n",
    "# Create, Read, Update, Delete\n",
    "# Create - Criar um novo registro\n",
    "# Read - Ler os dados existentes\n",
    "# Update - Atualizar um registro existente\n",
    "# Delete - Excluir um registro existente"
   ]
  },
  {
   "cell_type": "code",
   "execution_count": 20,
   "metadata": {},
   "outputs": [
    {
     "name": "stdout",
     "output_type": "stream",
     "text": [
      "Erro ao exportar os dados:  Table 'tb_roubo_veiculos' already exists.\n"
     ]
    }
   ],
   "source": [
    "# Jogar o dataframe como uma tabela no Banco de dados\n",
    "from sqlalchemy import create_engine, text\n",
    "\n",
    "try:\n",
    "    host = 'localhost'\n",
    "    user = 'root'\n",
    "    password = ''\n",
    "    database = 'bd_roubos_flags'\n",
    "\n",
    "    engine = create_engine(f'mysql+pymysql://{user}:{password}@{host}/{database}')\n",
    "\n",
    "    tabela = 'tb_roubo_veiculos'\n",
    "    # CREATE\n",
    "    # Na primeira vez, usar o 'replace' ou 'fail' para criar a tabela\n",
    "    # 'replace' irá substituir a tabela se ela já existir, enquanto 'fail' irá falhar se a tabela já existir.\n",
    "    # A partir da segunda vez, usar o 'append' para adicionar os dados.\n",
    "    df_roubos_flags.to_sql(tabela, con=engine, if_exists='fail', index=False)\n",
    "\n",
    "except Exception as e:\n",
    "    print(\"Erro ao exportar os dados: \", e)"
   ]
  },
  {
   "cell_type": "code",
   "execution_count": null,
   "metadata": {},
   "outputs": [],
   "source": [
    "# READ\n",
    "# Estrutura with para abrir e fechar o arquivo\n",
    "with engine.connect() as conexao:\n",
    "    comando_sql = text(\"SELECT * FROM tb_roubo_veiculos\")\n",
    "    resultado = conexao.execute(comando_sql)\n",
    "    for linha in resultado:\n",
    "        print(linha)"
   ]
  },
  {
   "cell_type": "code",
   "execution_count": 23,
   "metadata": {},
   "outputs": [],
   "source": [
    "# CREATE\n",
    "with engine.connect() as conexao:\n",
    "    comando_sql = text(\n",
    "        \"\"\"\n",
    "            INSERT INTO tb_roubo_veiculos (cisp, regiao, munic, roubo_veiculo, flag)\n",
    "            VALUES (171, 'Grande Niterói', 'São Gonçalo', 500, 'mais')\n",
    "        \"\"\"\n",
    "    )\n",
    "    \n",
    "    conexao.execute(comando_sql)\n",
    "\n",
    "    conexao.commit()"
   ]
  },
  {
   "cell_type": "code",
   "execution_count": 26,
   "metadata": {},
   "outputs": [],
   "source": [
    "# CREATE\n",
    "# Estrutura with para abrir e fechar o arquivo\n",
    "with engine.connect() as conexao:\n",
    "    comando_sql = text(\n",
    "    # Inserir a 69 também ('Niterói', 'Grande Niterói', 'mais')\n",
    "        \"\"\"\n",
    "        INSERT INTO tb_roubo_veiculos (cisp, regiao, munic, roubo_veiculo, flag)\n",
    "        VALUES (:cisp, :regiao, :munic, :roubo_veiculo, :flag)\n",
    "        \"\"\"\n",
    "    )\n",
    "    \n",
    "    conexao.execute(comando_sql, {\n",
    "        'cisp': 69,\n",
    "        'regiao': 'Grande Niterói',\n",
    "        'munic': 'São Gonçalo',\n",
    "        'roubo_veiculo': 100,\n",
    "        'flag': 'menos'\n",
    "    })\n",
    "\n",
    "    conexao.commit()\n"
   ]
  },
  {
   "cell_type": "code",
   "execution_count": 25,
   "metadata": {},
   "outputs": [],
   "source": [
    "# UPDATE\n",
    "# Onde a cisp é 171, passa a ser 76,\n",
    "# e atualizando para São Gonçalo, flag 'menos', roubo 20 etc\n",
    "with engine.connect() as conexao:\n",
    "\n",
    "    regiao = 'Grande Niterói'\n",
    "    munic = 'Niterói'\n",
    "    roubo_veiculo = 20\n",
    "    flag = 'menos'\n",
    "    cisp_nova = 76\n",
    "    cisp_atual = 171\n",
    "\n",
    "    comando_sql = text(\n",
    "        \"\"\"\n",
    "            UPDATE tb_roubo_veiculos\n",
    "            SET regiao = :regiao,\n",
    "                cisp = :cisp_nova,\n",
    "                munic = :munic,\n",
    "                roubo_veiculo = :roubo_veiculo,\n",
    "                flag = :flag\n",
    "            WHERE cisp = :cisp_atual\n",
    "        \"\"\"\n",
    "    )\n",
    "    # DADOS A SEREM ENVIADOS PARA O BANCO DE DADOS\n",
    "    conexao.execute(comando_sql, {\n",
    "        'regiao': regiao,\n",
    "        'cisp_nova': cisp_nova,\n",
    "        'munic': munic,\n",
    "        'roubo_veiculo': roubo_veiculo,\n",
    "        'flag': flag,\n",
    "        'cisp_atual': cisp_atual\n",
    "        }\n",
    "    )\n",
    "    \n",
    "    conexao.commit()"
   ]
  },
  {
   "cell_type": "code",
   "execution_count": 28,
   "metadata": {},
   "outputs": [],
   "source": [
    " # DELETE\n",
    "with engine.connect() as conexao:\n",
    "\n",
    "    comando_sql = text(\n",
    "        \"\"\"\n",
    "            DELETE FROM tb_roubo_veiculos\n",
    "            WHERE cisp = :cisp\n",
    "        \"\"\"\n",
    "    )\n",
    "\n",
    "    conexao.execute(comando_sql, {\n",
    "        'cisp': 76\n",
    "        }\n",
    "    )\n",
    "\n",
    "    conexao.commit()\n",
    "\n",
    "    # Sugestão:\n",
    "    # Com engine.connect(), normalmente é necessário o .commit()\n",
    "    # Usar engine.begin() no lugar de engine.connect(), \n",
    "    # para que o commit seja automático:"
   ]
  }
 ],
 "metadata": {
  "kernelspec": {
   "display_name": "Python 3",
   "language": "python",
   "name": "python3"
  },
  "language_info": {
   "codemirror_mode": {
    "name": "ipython",
    "version": 3
   },
   "file_extension": ".py",
   "mimetype": "text/x-python",
   "name": "python",
   "nbconvert_exporter": "python",
   "pygments_lexer": "ipython3",
   "version": "3.11.4"
  },
  "orig_nbformat": 4
 },
 "nbformat": 4,
 "nbformat_minor": 2
}
